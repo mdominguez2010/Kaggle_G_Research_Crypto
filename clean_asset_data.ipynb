{
 "cells": [
  {
   "cell_type": "markdown",
   "metadata": {},
   "source": [
    "# Plan of action\n",
    "- Load data\n",
    "- Check for time gaps\n",
    "- Remove NaNs\n",
    "- Reindex data and fill time gaps"
   ]
  },
  {
   "cell_type": "code",
   "execution_count": 1,
   "metadata": {},
   "outputs": [],
   "source": [
    "import pandas as pd\n",
    "import numpy as np\n",
    "from datetime import datetime\n",
    "import pickle"
   ]
  },
  {
   "cell_type": "markdown",
   "metadata": {},
   "source": [
    "# Load the data"
   ]
  },
  {
   "cell_type": "code",
   "execution_count": null,
   "metadata": {},
   "outputs": [],
   "source": [
    "data_folder = \"/Users/dominguez/Documents/Kaggle_G_Research_Crypto/data/\"\n",
    "train = pd.read_csv(data_folder + \"train.csv\")\n",
    "asset_details = pd.read_csv(data_folder + 'asset_details.csv')"
   ]
  },
  {
   "cell_type": "code",
   "execution_count": null,
   "metadata": {},
   "outputs": [],
   "source": [
    "train.head()"
   ]
  },
  {
   "cell_type": "code",
   "execution_count": null,
   "metadata": {},
   "outputs": [],
   "source": [
    "asset_details"
   ]
  },
  {
   "cell_type": "code",
   "execution_count": null,
   "metadata": {},
   "outputs": [],
   "source": [
    "# What is the time range for our dataset\n",
    "train_start_date = datetime.fromtimestamp(min(train.timestamp)).strftime('%Y-%m-%d %H:%M:%S')\n",
    "train_end_date = datetime.fromtimestamp(max(train.timestamp)).strftime('%Y-%m-%d %H:%M:%S')\n",
    "print(train_start_date)\n",
    "print(train_end_date)"
   ]
  },
  {
   "cell_type": "markdown",
   "metadata": {},
   "source": [
    "# Clean the data"
   ]
  },
  {
   "cell_type": "code",
   "execution_count": null,
   "metadata": {},
   "outputs": [],
   "source": [
    "# Focus on BTC data, Asset_ID = 1"
   ]
  },
  {
   "cell_type": "code",
   "execution_count": null,
   "metadata": {},
   "outputs": [],
   "source": [
    "btc = train[train[\"Asset_ID\"] == 1].set_index(\"timestamp\")\n",
    "btc"
   ]
  },
  {
   "cell_type": "code",
   "execution_count": null,
   "metadata": {},
   "outputs": [],
   "source": [
    "btc.isna().sum()"
   ]
  },
  {
   "cell_type": "code",
   "execution_count": null,
   "metadata": {},
   "outputs": [],
   "source": [
    "btc.info(show_counts=True)"
   ]
  },
  {
   "cell_type": "code",
   "execution_count": null,
   "metadata": {},
   "outputs": [],
   "source": [
    "# Missing asset data, for a given minute, is not represented by NaN's, but instead by the absence of those rows.\n",
    "# We can check the timestamp difference between consecutive rows to see if there is missing data."
   ]
  },
  {
   "cell_type": "code",
   "execution_count": null,
   "metadata": {},
   "outputs": [],
   "source": [
    "(btc.index[1:]-btc.index[:-1]).value_counts().head()"
   ]
  },
  {
   "cell_type": "code",
   "execution_count": null,
   "metadata": {},
   "outputs": [],
   "source": [
    "# Notice that there are many gaps in the data.\n",
    "# To work with most time series models, we should preprocess our data into a format without time gaps.\n",
    "# To fill the gaps, we can use the .reindex() method for forward filling,\n",
    "# filling gaps with the previous valid value."
   ]
  },
  {
   "cell_type": "code",
   "execution_count": null,
   "metadata": {},
   "outputs": [],
   "source": [
    "# Remove the NaNs\n",
    "# This will leave gaps in the time-series. But we'll deal with this soon\n",
    "btc.dropna(axis=0, inplace=True)"
   ]
  },
  {
   "cell_type": "code",
   "execution_count": null,
   "metadata": {},
   "outputs": [],
   "source": [
    "beg_btc = datetime.fromtimestamp(btc.index[0]).strftime('%Y-%m-%d %H:%M:%S')\n",
    "end_btc = datetime.fromtimestamp(btc.index[-1]).strftime('%Y-%m-%d %H:%M:%S')\n",
    "\n",
    "print('BTC data goes from ', beg_btc, 'to ', end_btc)"
   ]
  },
  {
   "cell_type": "code",
   "execution_count": null,
   "metadata": {},
   "outputs": [],
   "source": [
    "# Use .reindex() to fill the gaps\n",
    "btc = btc.reindex(range(btc.index[0], btc.index[-1] + 60, 60), method='pad')\n",
    "(btc.index[1:] - btc.index[:-1]).value_counts().head()"
   ]
  },
  {
   "cell_type": "code",
   "execution_count": null,
   "metadata": {},
   "outputs": [],
   "source": [
    "btc.isna().sum()"
   ]
  },
  {
   "cell_type": "code",
   "execution_count": 2,
   "metadata": {},
   "outputs": [
    {
     "data": {
      "text/html": [
       "<div>\n",
       "<style scoped>\n",
       "    .dataframe tbody tr th:only-of-type {\n",
       "        vertical-align: middle;\n",
       "    }\n",
       "\n",
       "    .dataframe tbody tr th {\n",
       "        vertical-align: top;\n",
       "    }\n",
       "\n",
       "    .dataframe thead th {\n",
       "        text-align: right;\n",
       "    }\n",
       "</style>\n",
       "<table border=\"1\" class=\"dataframe\">\n",
       "  <thead>\n",
       "    <tr style=\"text-align: right;\">\n",
       "      <th></th>\n",
       "      <th>Asset_ID</th>\n",
       "      <th>Count</th>\n",
       "      <th>Open</th>\n",
       "      <th>High</th>\n",
       "      <th>Low</th>\n",
       "      <th>Close</th>\n",
       "      <th>Volume</th>\n",
       "      <th>VWAP</th>\n",
       "      <th>Target</th>\n",
       "    </tr>\n",
       "    <tr>\n",
       "      <th>timestamp</th>\n",
       "      <th></th>\n",
       "      <th></th>\n",
       "      <th></th>\n",
       "      <th></th>\n",
       "      <th></th>\n",
       "      <th></th>\n",
       "      <th></th>\n",
       "      <th></th>\n",
       "      <th></th>\n",
       "    </tr>\n",
       "  </thead>\n",
       "  <tbody>\n",
       "    <tr>\n",
       "      <th>1514764860</th>\n",
       "      <td>1</td>\n",
       "      <td>229.0</td>\n",
       "      <td>13835.19400</td>\n",
       "      <td>14013.80</td>\n",
       "      <td>13666.11</td>\n",
       "      <td>13850.176000</td>\n",
       "      <td>31.550062</td>\n",
       "      <td>13827.062093</td>\n",
       "      <td>-0.014643</td>\n",
       "    </tr>\n",
       "    <tr>\n",
       "      <th>1514764920</th>\n",
       "      <td>1</td>\n",
       "      <td>235.0</td>\n",
       "      <td>13835.03600</td>\n",
       "      <td>14052.30</td>\n",
       "      <td>13680.00</td>\n",
       "      <td>13828.102000</td>\n",
       "      <td>31.046432</td>\n",
       "      <td>13840.362591</td>\n",
       "      <td>-0.015037</td>\n",
       "    </tr>\n",
       "    <tr>\n",
       "      <th>1514764980</th>\n",
       "      <td>1</td>\n",
       "      <td>528.0</td>\n",
       "      <td>13823.90000</td>\n",
       "      <td>14000.40</td>\n",
       "      <td>13601.00</td>\n",
       "      <td>13801.314000</td>\n",
       "      <td>55.061820</td>\n",
       "      <td>13806.068014</td>\n",
       "      <td>-0.010309</td>\n",
       "    </tr>\n",
       "    <tr>\n",
       "      <th>1514765040</th>\n",
       "      <td>1</td>\n",
       "      <td>435.0</td>\n",
       "      <td>13802.51200</td>\n",
       "      <td>13999.00</td>\n",
       "      <td>13576.28</td>\n",
       "      <td>13768.040000</td>\n",
       "      <td>38.780529</td>\n",
       "      <td>13783.598101</td>\n",
       "      <td>-0.008999</td>\n",
       "    </tr>\n",
       "    <tr>\n",
       "      <th>1514765100</th>\n",
       "      <td>1</td>\n",
       "      <td>742.0</td>\n",
       "      <td>13766.00000</td>\n",
       "      <td>13955.90</td>\n",
       "      <td>13554.44</td>\n",
       "      <td>13724.914000</td>\n",
       "      <td>108.501637</td>\n",
       "      <td>13735.586842</td>\n",
       "      <td>-0.008079</td>\n",
       "    </tr>\n",
       "    <tr>\n",
       "      <th>...</th>\n",
       "      <td>...</td>\n",
       "      <td>...</td>\n",
       "      <td>...</td>\n",
       "      <td>...</td>\n",
       "      <td>...</td>\n",
       "      <td>...</td>\n",
       "      <td>...</td>\n",
       "      <td>...</td>\n",
       "      <td>...</td>\n",
       "    </tr>\n",
       "    <tr>\n",
       "      <th>1632181200</th>\n",
       "      <td>1</td>\n",
       "      <td>2643.0</td>\n",
       "      <td>42632.46500</td>\n",
       "      <td>42736.90</td>\n",
       "      <td>42607.50</td>\n",
       "      <td>42703.636250</td>\n",
       "      <td>100.797218</td>\n",
       "      <td>42653.031385</td>\n",
       "      <td>0.002084</td>\n",
       "    </tr>\n",
       "    <tr>\n",
       "      <th>1632181260</th>\n",
       "      <td>1</td>\n",
       "      <td>2281.0</td>\n",
       "      <td>42718.81500</td>\n",
       "      <td>42819.38</td>\n",
       "      <td>42690.84</td>\n",
       "      <td>42781.970571</td>\n",
       "      <td>76.339988</td>\n",
       "      <td>42755.785162</td>\n",
       "      <td>0.003246</td>\n",
       "    </tr>\n",
       "    <tr>\n",
       "      <th>1632181320</th>\n",
       "      <td>1</td>\n",
       "      <td>2642.0</td>\n",
       "      <td>42772.92125</td>\n",
       "      <td>42827.10</td>\n",
       "      <td>42690.75</td>\n",
       "      <td>42755.592500</td>\n",
       "      <td>117.429123</td>\n",
       "      <td>42749.075916</td>\n",
       "      <td>0.003108</td>\n",
       "    </tr>\n",
       "    <tr>\n",
       "      <th>1632181380</th>\n",
       "      <td>1</td>\n",
       "      <td>2134.0</td>\n",
       "      <td>42762.29000</td>\n",
       "      <td>42811.30</td>\n",
       "      <td>42694.37</td>\n",
       "      <td>42717.234286</td>\n",
       "      <td>78.049458</td>\n",
       "      <td>42749.024591</td>\n",
       "      <td>0.002770</td>\n",
       "    </tr>\n",
       "    <tr>\n",
       "      <th>1632181440</th>\n",
       "      <td>1</td>\n",
       "      <td>2165.0</td>\n",
       "      <td>42703.80250</td>\n",
       "      <td>42752.00</td>\n",
       "      <td>42636.76</td>\n",
       "      <td>42657.202500</td>\n",
       "      <td>86.518794</td>\n",
       "      <td>42680.263993</td>\n",
       "      <td>0.002726</td>\n",
       "    </tr>\n",
       "  </tbody>\n",
       "</table>\n",
       "<p>1956944 rows × 9 columns</p>\n",
       "</div>"
      ],
      "text/plain": [
       "            Asset_ID   Count         Open      High       Low         Close  \\\n",
       "timestamp                                                                     \n",
       "1514764860         1   229.0  13835.19400  14013.80  13666.11  13850.176000   \n",
       "1514764920         1   235.0  13835.03600  14052.30  13680.00  13828.102000   \n",
       "1514764980         1   528.0  13823.90000  14000.40  13601.00  13801.314000   \n",
       "1514765040         1   435.0  13802.51200  13999.00  13576.28  13768.040000   \n",
       "1514765100         1   742.0  13766.00000  13955.90  13554.44  13724.914000   \n",
       "...              ...     ...          ...       ...       ...           ...   \n",
       "1632181200         1  2643.0  42632.46500  42736.90  42607.50  42703.636250   \n",
       "1632181260         1  2281.0  42718.81500  42819.38  42690.84  42781.970571   \n",
       "1632181320         1  2642.0  42772.92125  42827.10  42690.75  42755.592500   \n",
       "1632181380         1  2134.0  42762.29000  42811.30  42694.37  42717.234286   \n",
       "1632181440         1  2165.0  42703.80250  42752.00  42636.76  42657.202500   \n",
       "\n",
       "                Volume          VWAP    Target  \n",
       "timestamp                                       \n",
       "1514764860   31.550062  13827.062093 -0.014643  \n",
       "1514764920   31.046432  13840.362591 -0.015037  \n",
       "1514764980   55.061820  13806.068014 -0.010309  \n",
       "1514765040   38.780529  13783.598101 -0.008999  \n",
       "1514765100  108.501637  13735.586842 -0.008079  \n",
       "...                ...           ...       ...  \n",
       "1632181200  100.797218  42653.031385  0.002084  \n",
       "1632181260   76.339988  42755.785162  0.003246  \n",
       "1632181320  117.429123  42749.075916  0.003108  \n",
       "1632181380   78.049458  42749.024591  0.002770  \n",
       "1632181440   86.518794  42680.263993  0.002726  \n",
       "\n",
       "[1956944 rows x 9 columns]"
      ]
     },
     "execution_count": 2,
     "metadata": {},
     "output_type": "execute_result"
    }
   ],
   "source": [
    "# # Pickling stuff\n",
    "# with open(\"./data/btc.pickle\", \"wb\") as f:\n",
    "#     pickle.dump(btc, f)\n",
    "            \n",
    "with open(\"./data/btc.pickle\", 'rb') as f:\n",
    "    btc = pickle.load(f)\n",
    "    \n",
    "btc"
   ]
  },
  {
   "cell_type": "code",
   "execution_count": null,
   "metadata": {},
   "outputs": [],
   "source": []
  },
  {
   "cell_type": "code",
   "execution_count": null,
   "metadata": {},
   "outputs": [],
   "source": []
  },
  {
   "cell_type": "code",
   "execution_count": null,
   "metadata": {},
   "outputs": [],
   "source": []
  },
  {
   "cell_type": "code",
   "execution_count": null,
   "metadata": {},
   "outputs": [],
   "source": []
  }
 ],
 "metadata": {
  "interpreter": {
   "hash": "40d3a090f54c6569ab1632332b64b2c03c39dcf918b08424e98f38b5ae0af88f"
  },
  "kernelspec": {
   "display_name": "Python 3.8.3 64-bit ('base': conda)",
   "language": "python",
   "name": "python3"
  },
  "language_info": {
   "codemirror_mode": {
    "name": "ipython",
    "version": 3
   },
   "file_extension": ".py",
   "mimetype": "text/x-python",
   "name": "python",
   "nbconvert_exporter": "python",
   "pygments_lexer": "ipython3",
   "version": "3.8.3"
  },
  "orig_nbformat": 4
 },
 "nbformat": 4,
 "nbformat_minor": 2
}
